{
  "nbformat": 4,
  "nbformat_minor": 0,
  "metadata": {
    "colab": {
      "name": "Crowd_Counting_Density_Map.ipynb",
      "provenance": [],
      "collapsed_sections": []
    },
    "kernelspec": {
      "name": "python3",
      "display_name": "Python 3"
    },
    "language_info": {
      "name": "python"
    },
    "accelerator": "GPU"
  },
  "cells": [
    {
      "cell_type": "code",
      "metadata": {
        "colab": {
          "base_uri": "https://localhost:8080/"
        },
        "id": "2aSo3HgO8X6T",
        "outputId": "aa04edce-48e0-49f9-a86e-f1616011533c"
      },
      "source": [
        "!git clone https://github.com/ghqls1237/CS492_CrowdCounting.git"
      ],
      "execution_count": null,
      "outputs": [
        {
          "output_type": "stream",
          "text": [
            "fatal: destination path 'CS492_CrowdCounting' already exists and is not an empty directory.\n"
          ],
          "name": "stdout"
        }
      ]
    },
    {
      "cell_type": "code",
      "metadata": {
        "colab": {
          "base_uri": "https://localhost:8080/"
        },
        "id": "3tSu-vqf8eIt",
        "outputId": "1f4c6e26-6247-46e0-effb-b32a632bc7d2"
      },
      "source": [
        "!pip3 install torchvision\n",
        "!pip install tqdm"
      ],
      "execution_count": null,
      "outputs": [
        {
          "output_type": "stream",
          "text": [
            "Requirement already satisfied: torchvision in /usr/local/lib/python3.7/dist-packages (0.9.1+cu101)\n",
            "Requirement already satisfied: pillow>=4.1.1 in /usr/local/lib/python3.7/dist-packages (from torchvision) (7.1.2)\n",
            "Requirement already satisfied: torch==1.8.1 in /usr/local/lib/python3.7/dist-packages (from torchvision) (1.8.1+cu101)\n",
            "Requirement already satisfied: numpy in /usr/local/lib/python3.7/dist-packages (from torchvision) (1.19.5)\n",
            "Requirement already satisfied: typing-extensions in /usr/local/lib/python3.7/dist-packages (from torch==1.8.1->torchvision) (3.7.4.3)\n",
            "Requirement already satisfied: tqdm in /usr/local/lib/python3.7/dist-packages (4.41.1)\n"
          ],
          "name": "stdout"
        }
      ]
    },
    {
      "cell_type": "code",
      "metadata": {
        "id": "zQEhFpSL8eLE",
        "colab": {
          "base_uri": "https://localhost:8080/"
        },
        "outputId": "3b181b0d-b324-4a71-ff44-4ec62bd9608b"
      },
      "source": [
        "from google.colab import drive\n",
        "drive.mount('/content/drive')"
      ],
      "execution_count": null,
      "outputs": [
        {
          "output_type": "stream",
          "text": [
            "Drive already mounted at /content/drive; to attempt to forcibly remount, call drive.mount(\"/content/drive\", force_remount=True).\n"
          ],
          "name": "stdout"
        }
      ]
    },
    {
      "cell_type": "code",
      "metadata": {
        "id": "d3PKJjOA8eNk",
        "colab": {
          "base_uri": "https://localhost:8080/",
          "height": 514
        },
        "outputId": "b58a5e9a-def3-421c-a49a-53a90723b371"
      },
      "source": [
        "'''\n",
        "Model을 처음 training할 때\n",
        "  1. model_to_load = False로 설정\n",
        "  2. LAST_EPOCH = -1로 설정\n",
        "기존의 Model 위에 \n",
        "  1. model_to_load = True 로 설정\n",
        "  2. LAST_EPOCH을 test된 마지막 epoch으로 설정\n",
        "\n",
        "\n",
        "'''\n",
        "\n",
        "\n",
        "import numpy as np\n",
        "import time\n",
        "import torch\n",
        "import torch.nn as nn\n",
        "import os\n",
        "#import visdom\n",
        "import random\n",
        "from tqdm import tqdm as tqdm\n",
        "import pickle\n",
        "\n",
        "from CS492_CrowdCounting.trialnet1 import CANNet\n",
        "from CS492_CrowdCounting.my_dataset import CrowdDataset\n",
        "\n",
        "if __name__==\"__main__\":\n",
        "    # configuration\n",
        "    train_image_root='/content/drive/My Drive/ShanghaiTech/part_A/train_data/images'  #image\n",
        "    train_dmap_root='/content/drive/My Drive/ShanghaiTech/part_A/train_data/ground-truth' #density map\n",
        "    test_image_root='/content/drive/My Drive/ShanghaiTech/part_A/test_data/images'\n",
        "    test_dmap_root='/content/drive/My Drive/ShanghaiTech/part_A/test_data/ground-truth'\n",
        "    img_root = '/content/drive/My Drive/ShanghaiTech/Test_Folder'\n",
        "    gpu_or_cpu='cuda' # use cuda or cpu\n",
        "    lr                = 1e-7\n",
        "    batch_size        = 1\n",
        "    momentum          = 0.95\n",
        "    epochs            = 20000 \n",
        "    steps             = [-1,1,100,150]\n",
        "    scales            = [1,1,1,1]\n",
        "    workers           = 4\n",
        "    seed              = time.time()\n",
        "    print_freq        = 30 \n",
        "    model_to_load     = True  # 처음 training 시킬 때 False로 바꾸기\n",
        "\n",
        "    \"CHANGE THIS PART ACCORDING TO YOUR NEED. IF YOU WANT TO CONTINUE ON FROM LAST TRAINING, TYPE IN THE LAST EPOCH OF YOUR TRAINING\"\n",
        "    LAST_EPOCH        = 141\n",
        "\n",
        "\n",
        "    #vis=visdom.Visdom()\n",
        "    device=torch.device(gpu_or_cpu)\n",
        "    torch.cuda.manual_seed(seed)\n",
        "    model=CANNet().to(device)\n",
        "    criterion=nn.MSELoss(size_average=False).to(device)\n",
        "    optimizer=torch.optim.SGD(model.parameters(),lr,\n",
        "                              momentum=momentum,\n",
        "                              weight_decay=0)\n",
        "#   optimizer=torch.optim.Adam(model.parameters(),lr)\n",
        "    train_dataset=CrowdDataset(train_image_root,train_dmap_root,gt_downsample=8,phase='train')\n",
        "    train_loader=torch.utils.data.DataLoader(train_dataset,batch_size=batch_size,shuffle=True)\n",
        "    test_dataset=CrowdDataset(test_image_root,test_dmap_root,gt_downsample=8,phase='test')\n",
        "    test_loader=torch.utils.data.DataLoader(test_dataset,batch_size=batch_size,shuffle=False)\n",
        "\n",
        "    if not os.path.exists('./checkpoints'):\n",
        "        os.mkdir('./checkpoints')\n",
        "    min_mae=10000\n",
        "    min_epoch=0\n",
        "    train_loss_list=[]\n",
        "    epoch_list=[]\n",
        "    test_error_list=[]\n",
        "\n",
        "    # 맨 처음부터 training시킬 때는 if 부분 주석 처리\n",
        "    if model_to_load:\n",
        "      if LAST_EPOCH >= 0:\n",
        "        with open('/content/drive/My Drive/AI_Project2/checkpoints/train_loss_list.pkl', 'rb') as f:\n",
        "          train_loss_list = pickle.load(f)\n",
        "        with open('/content/drive/My Drive/AI_Project2/checkpoints/test_error_list.pkl', 'rb') as f:\n",
        "          test_error_list = pickle.load(f)\n",
        "        LAST_EPOCH = LAST_EPOCH - 1 if len(train_loss_list)!=len(test_error_list) else LAST_EPOCH\n",
        "        train_loss_list = train_loss_list[:LAST_EPOCH+1]\n",
        "        test_error_list = test_error_list[:LAST_EPOCH+1]\n",
        "      model.load_state_dict(torch.load(\"/content/drive/My Drive/AI_Project2/checkpoints/epoch_{}.pth\".format(LAST_EPOCH)))\n",
        "\n",
        "    for i, (img, gt_dmap) in enumerate(tqdm(test_loader)):\n",
        "      print(\"\\nIMAGE NUMBER: {}\".format(i))\n",
        "      img=img.to(device)\n",
        "      gt_dmap=gt_dmap.to(device)\n",
        "      # forward propagation\n",
        "      et_dmap=model(img)\n",
        "      print(type(img))\n",
        "      print(img.shape)\n",
        "      if i==1:\n",
        "        break"
      ],
      "execution_count": null,
      "outputs": [
        {
          "output_type": "stream",
          "text": [
            "/usr/local/lib/python3.7/dist-packages/torch/nn/_reduction.py:42: UserWarning: size_average and reduce args will be deprecated, please use reduction='sum' instead.\n",
            "  warnings.warn(warning.format(ret))\n",
            "\n",
            "  0%|          | 0/182 [00:00<?, ?it/s]\u001b[A/usr/local/lib/python3.7/dist-packages/torch/nn/functional.py:3328: UserWarning: nn.functional.upsample is deprecated. Use nn.functional.interpolate instead.\n",
            "  warnings.warn(\"nn.functional.upsample is deprecated. Use nn.functional.interpolate instead.\")\n",
            "/usr/local/lib/python3.7/dist-packages/torch/nn/functional.py:3458: UserWarning: Default upsampling behavior when mode=bilinear is changed to align_corners=False since 0.4.0. Please specify align_corners=True if the old behavior is desired. See the documentation of nn.Upsample for details.\n",
            "  \"See the documentation of nn.Upsample for details.\".format(mode)\n",
            "/usr/local/lib/python3.7/dist-packages/torch/nn/functional.py:1709: UserWarning: nn.functional.sigmoid is deprecated. Use torch.sigmoid instead.\n",
            "  warnings.warn(\"nn.functional.sigmoid is deprecated. Use torch.sigmoid instead.\")\n",
            "  0%|          | 0/182 [00:00<?, ?it/s]"
          ],
          "name": "stderr"
        },
        {
          "output_type": "stream",
          "text": [
            "\n",
            "IMAGE NUMBER: 0\n",
            "<class 'torch.Tensor'>\n",
            "torch.Size([1, 3, 392, 592])\n",
            "\n",
            "IMAGE NUMBER: 1\n",
            "<class 'torch.Tensor'>\n",
            "torch.Size([1, 3, 608, 464])\n"
          ],
          "name": "stdout"
        },
        {
          "output_type": "stream",
          "text": [
            "\n"
          ],
          "name": "stderr"
        },
        {
          "output_type": "execute_result",
          "data": {
            "application/vnd.google.colaboratory.intrinsic+json": {
              "type": "string"
            },
            "text/plain": [
              "'\\n    for epoch in range(LAST_EPOCH+1,epochs):\\n        # training phase\\n        model.train()\\n        epoch_loss=0\\n        for i,(img,gt_dmap) in enumerate(tqdm(train_loader)):\\n            img=img.to(device)\\n            gt_dmap=gt_dmap.to(device)\\n            # forward propagation\\n            et_dmap=model(img)\\n            # calculate loss\\n            loss=criterion(et_dmap,gt_dmap)\\n            epoch_loss+=loss.item()\\n            optimizer.zero_grad()\\n            loss.backward()\\n            optimizer.step()\\n        #print(\"epoch:\",epoch,\"loss:\",epoch_loss/len(train_loader))\\n        epoch_list.append(epoch)\\n        train_loss_list.append((epoch_loss/len(train_loader)))\\n        # Saves train_loss_list\\n        with open(\\'/content/drive/My Drive/AI_Project2/checkpoints/train_loss_list.pkl\\', \\'wb\\') as f:\\n          pickle.dump(train_loss_list, f)\\n        torch.save(model.state_dict(),F\"/content/drive/My Drive/AI_Project2/checkpoints/epoch_\"+str(epoch)+\".pth\")\\n    \\n        # testing phase\\n        model.eval()\\n        mae=0\\n        for i,(img,gt_dmap) in enumerate(tqdm(test_loader)):\\n            img=img.to(device)\\n            gt_dmap=gt_dmap.to(device)\\n            # forward propagation\\n            et_dmap=model(img)\\n            mae+=abs(et_dmap.data.sum()-gt_dmap.data.sum()).item()\\n            del img,gt_dmap,et_dmap\\n        if mae/len(test_loader)<min_mae:\\n            min_mae=mae/len(test_loader)\\n            min_epoch=epoch\\n        test_error_list.append((mae/len(test_loader)))\\n        with open(\\'/content/drive/My Drive/AI_Project2/checkpoints/test_error_list.pkl\\', \\'wb\\') as f:\\n          pickle.dump(test_error_list, f)\\n        print(\"epoch:\"+str(epoch)+\" error:\"+str(mae/len(test_loader))+\" min_mae:\"+str(min_mae)+\" min_epoch:\"+str(min_epoch))\\n        #vis.line(win=1,X=epoch_list, Y=train_loss_list, opts=dict(title=\\'train_loss\\'))\\n        #vis.line(win=2,X=epoch_list, Y=test_error_list, opts=dict(title=\\'test_error\\'))\\n        # show an image\\n        index=random.randint(0,len(test_loader)-1)\\n        img,gt_dmap=test_dataset[index]\\n        #vis.image(win=3,img=img,opts=dict(title=\\'img\\'))\\n        #vis.image(win=4,img=gt_dmap/(gt_dmap.max())*255,opts=dict(title=\\'gt_dmap(\\'+str(gt_dmap.sum())+\\')\\'))\\n        img=img.unsqueeze(0).to(device)\\n        gt_dmap=gt_dmap.unsqueeze(0)\\n        et_dmap=model(img)\\n        et_dmap=et_dmap.squeeze(0).detach().cpu().numpy()\\n        #vis.image(win=5,img=et_dmap/(et_dmap.max())*255,opts=dict(title=\\'et_dmap(\\'+str(et_dmap.sum())+\\')\\'))\\n    \\n    import time\\n    print(time.strftime(\\'%Y.%m.%d %H:%M:%S\\',time.localtime(time.time())))\\n'"
            ]
          },
          "metadata": {
            "tags": []
          },
          "execution_count": 126
        }
      ]
    },
    {
      "cell_type": "markdown",
      "metadata": {
        "id": "YkiSLYW1I4ih"
      },
      "source": [
        "# Model Estimation of the Density Map"
      ]
    },
    {
      "cell_type": "code",
      "metadata": {
        "id": "dW83EMPH8eQV",
        "colab": {
          "base_uri": "https://localhost:8080/",
          "height": 268
        },
        "outputId": "5c047276-bbaf-4c56-ecc2-d0a5fa09ba2c"
      },
      "source": [
        "import matplotlib.pyplot as plt\n",
        "\n",
        "et_dmap_cpu = et_dmap.to('cpu')\n",
        "et_dmap_cpu = et_dmap_cpu.detach().numpy()\n",
        "et_dmap_cpu = et_dmap_cpu.reshape(et_dmap_cpu.shape[2],et_dmap_cpu.shape[3])\n",
        "\n",
        "plt.imshow(et_dmap_cpu, cmap='jet', interpolation='nearest')\n",
        "plt.show()\n"
      ],
      "execution_count": null,
      "outputs": [
        {
          "output_type": "display_data",
          "data": {
            "image/png": "[encoded data removed]",
            "text/plain": [
              "<Figure size 432x288 with 1 Axes>"
            ]
          },
          "metadata": {
            "tags": [],
            "needs_background": "light"
          }
        }
      ]
    },
    {
      "cell_type": "code",
      "metadata": {
        "colab": {
          "base_uri": "https://localhost:8080/"
        },
        "id": "eh2BFq6FCUl6",
        "outputId": "64bb9dac-3dab-4ea8-95b1-bdada8dbe8f5"
      },
      "source": [
        "et_dmap.data.sum().item() # expected number of people"
      ],
      "execution_count": null,
      "outputs": [
        {
          "output_type": "execute_result",
          "data": {
            "text/plain": [
              "148.6949920654297"
            ]
          },
          "metadata": {
            "tags": []
          },
          "execution_count": 128
        }
      ]
    },
    {
      "cell_type": "markdown",
      "metadata": {
        "id": "DekpBBKAI-oa"
      },
      "source": [
        "# Actual Density Map"
      ]
    },
    {
      "cell_type": "code",
      "metadata": {
        "colab": {
          "base_uri": "https://localhost:8080/",
          "height": 322
        },
        "id": "1fvHXuD0Angc",
        "outputId": "68b6ee68-3557-454f-a32c-2140e603d029"
      },
      "source": [
        "gt_dmap_cpu = gt_dmap.to('cpu')\n",
        "gt_dmap_cpu = gt_dmap_cpu.detach().numpy()\n",
        "gt_dmap_cpu = gt_dmap_cpu.reshape(gt_dmap_cpu.shape[2],gt_dmap_cpu.shape[3])\n",
        "\n",
        "plt.imshow(gt_dmap_cpu, cmap='jet', interpolation='nearest')\n",
        "plt.show()"
      ],
      "execution_count": null,
      "outputs": [
        {
          "output_type": "display_data",
          "data": {
            "image/png": "[encoded data removed]",
            "text/plain": [
              "<Figure size 1440x360 with 1 Axes>"
            ]
          },
          "metadata": {
            "tags": [],
            "needs_background": "light"
          }
        }
      ]
    },
    {
      "cell_type": "code",
      "metadata": {
        "colab": {
          "base_uri": "https://localhost:8080/"
        },
        "id": "MIKYY3gaCXAi",
        "outputId": "523b50a8-4022-4eba-e016-70ec57fe9656"
      },
      "source": [
        "gt_dmap.data.sum().item()"
      ],
      "execution_count": null,
      "outputs": [
        {
          "output_type": "execute_result",
          "data": {
            "text/plain": [
              "128.8002471923828"
            ]
          },
          "metadata": {
            "tags": []
          },
          "execution_count": 139
        }
      ]
    },
    {
      "cell_type": "code",
      "metadata": {
        "colab": {
          "base_uri": "https://localhost:8080/"
        },
        "id": "HuRPrBoTBFZI",
        "outputId": "9e9079f7-1e07-4727-9cf3-f4dfa2148291"
      },
      "source": [
        "print(type(img))"
      ],
      "execution_count": null,
      "outputs": [
        {
          "output_type": "stream",
          "text": [
            "<class 'torch.Tensor'>\n"
          ],
          "name": "stdout"
        }
      ]
    },
    {
      "cell_type": "markdown",
      "metadata": {
        "id": "IbO5OhG_Itbq"
      },
      "source": [
        "# This parts lets you make a density map of a photo of your choice and predict the number of people based on the density map."
      ]
    },
    {
      "cell_type": "code",
      "metadata": {
        "id": "Obab9jWMGClk"
      },
      "source": [
        "import cv2\n",
        "from torchvision import transforms\n",
        "torch.cuda.empty_cache()\n",
        "\n",
        "img_names=[filename for filename in os.listdir(img_root) \\\n",
        "                           if os.path.isfile(os.path.join(img_root,filename))]\n",
        "\n",
        "\n",
        "def img_transform(index, gt_downsample=8):\n",
        "  '''\n",
        "  transforms the jpg image suitable as the model input\n",
        "  '''\n",
        "  assert index <= len(img_names), 'index range error'\n",
        "  img_name=img_names[index]\n",
        "  img=plt.imread(os.path.join(img_root,img_name))/255# convert from [0,255] to [0,1]\n",
        "\n",
        "  if len(img.shape)==2: # expand grayscale image to three channel.\n",
        "      img=img[:,:,np.newaxis]\n",
        "      img=np.concatenate((img,img,img),2)\n",
        "\n",
        "  if gt_downsample>1: # to downsample image and density-map to match deep-model.\n",
        "      ds_rows=int(img.shape[0]//gt_downsample)\n",
        "      ds_cols=int(img.shape[1]//gt_downsample)\n",
        "      img = cv2.resize(img,(ds_cols*gt_downsample,ds_rows*gt_downsample))\n",
        "      img=img.transpose((2,0,1)) # convert to order (channel,rows,cols)\n",
        "\n",
        "      img_tensor=torch.tensor(img,dtype=torch.float)\n",
        "      img_tensor=transforms.functional.normalize(img_tensor,mean=[0.485, 0.456, 0.406],\n",
        "                                std=[0.229, 0.224, 0.225])\n",
        "  img_tensor = img_tensor.reshape(1, img_tensor.shape[0], img_tensor.shape[1], img_tensor.shape[2])\n",
        "  return img_tensor"
      ],
      "execution_count": null,
      "outputs": []
    },
    {
      "cell_type": "code",
      "metadata": {
        "colab": {
          "base_uri": "https://localhost:8080/"
        },
        "id": "j49uAztpKYal",
        "outputId": "c6ad24f3-8c00-4403-a452-80e965ce1944"
      },
      "source": [
        "test_img = img_transform(1)\n",
        "print(test_img.shape)"
      ],
      "execution_count": null,
      "outputs": [
        {
          "output_type": "stream",
          "text": [
            "torch.Size([1, 3, 144, 232])\n"
          ],
          "name": "stdout"
        }
      ]
    },
    {
      "cell_type": "code",
      "metadata": {
        "colab": {
          "base_uri": "https://localhost:8080/",
          "height": 378
        },
        "id": "3JWl9q3PKbeE",
        "outputId": "400dc7bd-329e-49b4-cf99-f68e7e7a7422"
      },
      "source": [
        "test_dmap=model(test_img.to('cuda'))\n",
        "\n",
        "test_dmap_cpu = test_dmap.to('cpu')\n",
        "test_dmap_cpu = test_dmap_cpu.detach().numpy()\n",
        "test_dmap_cpu = test_dmap_cpu.reshape(test_dmap_cpu.shape[2],test_dmap_cpu.shape[3])\n",
        "\n",
        "plt.imshow(test_dmap_cpu, cmap='jet', interpolation='nearest')\n",
        "plt.show()"
      ],
      "execution_count": null,
      "outputs": [
        {
          "output_type": "stream",
          "text": [
            "/usr/local/lib/python3.7/dist-packages/torch/nn/functional.py:3328: UserWarning: nn.functional.upsample is deprecated. Use nn.functional.interpolate instead.\n",
            "  warnings.warn(\"nn.functional.upsample is deprecated. Use nn.functional.interpolate instead.\")\n",
            "/usr/local/lib/python3.7/dist-packages/torch/nn/functional.py:3458: UserWarning: Default upsampling behavior when mode=bilinear is changed to align_corners=False since 0.4.0. Please specify align_corners=True if the old behavior is desired. See the documentation of nn.Upsample for details.\n",
            "  \"See the documentation of nn.Upsample for details.\".format(mode)\n",
            "/usr/local/lib/python3.7/dist-packages/torch/nn/functional.py:1709: UserWarning: nn.functional.sigmoid is deprecated. Use torch.sigmoid instead.\n",
            "  warnings.warn(\"nn.functional.sigmoid is deprecated. Use torch.sigmoid instead.\")\n"
          ],
          "name": "stderr"
        },
        {
          "output_type": "display_data",
          "data": {
            "image/png": "[encoded data removed]",
            "text/plain": [
              "<Figure size 432x288 with 1 Axes>"
            ]
          },
          "metadata": {
            "tags": [],
            "needs_background": "light"
          }
        }
      ]
    },
    {
      "cell_type": "code",
      "metadata": {
        "colab": {
          "base_uri": "https://localhost:8080/"
        },
        "id": "rpDmeLk1Kmur",
        "outputId": "eb337084-851b-4ec9-cf88-d78fa929c4e8"
      },
      "source": [
        "test_dmap.data.sum().item()"
      ],
      "execution_count": null,
      "outputs": [
        {
          "output_type": "execute_result",
          "data": {
            "text/plain": [
              "37.843074798583984"
            ]
          },
          "metadata": {
            "tags": []
          },
          "execution_count": 104
        }
      ]
    },
    {
      "cell_type": "code",
      "metadata": {
        "id": "RRt3pJyAMQ6Z"
      },
      "source": [
        ""
      ],
      "execution_count": null,
      "outputs": []
    }
  ]
}